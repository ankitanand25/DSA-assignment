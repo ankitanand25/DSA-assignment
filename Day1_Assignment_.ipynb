{
  "nbformat": 4,
  "nbformat_minor": 0,
  "metadata": {
    "colab": {
      "name": "Day1 Assignment .ipynb",
      "provenance": [],
      "collapsed_sections": []
    },
    "kernelspec": {
      "name": "python3",
      "display_name": "Python 3"
    }
  },
  "cells": [
    {
      "cell_type": "markdown",
      "metadata": {
        "id": "CkBxsUpUKuhs"
      },
      "source": [
        "Ques1:\r\n"
      ]
    },
    {
      "cell_type": "code",
      "metadata": {
        "colab": {
          "base_uri": "https://localhost:8080/"
        },
        "id": "X6lzEifvFdTX",
        "outputId": "72480320-7e6a-444b-dba0-c85170808886"
      },
      "source": [
        "\r\n",
        "X = int(input('Enter number1:'))\r\n",
        "Y = int(input('Enter number2:'))\r\n",
        "print(X**Y)"
      ],
      "execution_count": 4,
      "outputs": [
        {
          "output_type": "stream",
          "text": [
            "Enter number1:2\n",
            "Enter number2:3\n",
            "8\n"
          ],
          "name": "stdout"
        }
      ]
    },
    {
      "cell_type": "markdown",
      "metadata": {
        "id": "RU2UiZGSKjxr"
      },
      "source": [
        "Ques2:\r\n"
      ]
    },
    {
      "cell_type": "code",
      "metadata": {
        "colab": {
          "base_uri": "https://localhost:8080/"
        },
        "id": "QjCi-a1zG2aV",
        "outputId": "302ce7c1-f123-4229-f329-db571acdbfb3"
      },
      "source": [
        "list =[10,12,3,5,8,9]\r\n",
        "vals= [i for i in list if i % 3 == 0]\r\n",
        "print(vals)"
      ],
      "execution_count": 14,
      "outputs": [
        {
          "output_type": "stream",
          "text": [
            "[12, 3, 9]\n"
          ],
          "name": "stdout"
        }
      ]
    },
    {
      "cell_type": "markdown",
      "metadata": {
        "id": "oeQsOYlrGx9Z"
      },
      "source": [
        ""
      ]
    },
    {
      "cell_type": "markdown",
      "metadata": {
        "id": "z5Ic9B7pGuMc"
      },
      "source": [
        ""
      ]
    }
  ]
}